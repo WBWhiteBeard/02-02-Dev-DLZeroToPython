{
 "cells": [
  {
   "cell_type": "markdown",
   "id": "0cc5347d",
   "metadata": {},
   "source": [
    "网址来源：[深度学习入门:基于Python的理论与实现](https://weread.qq.com/web/reader/b6032660813ab90ebg010b40)"
   ]
  },
  {
   "cell_type": "markdown",
   "id": "6dc8e218",
   "metadata": {},
   "source": [
    "01：正如美国物理学家理查德·费曼(Richard Phillips Feynman)所说：​“What I cannot create, I do not understand.”只有创造一个东西，才算真正弄懂了一个问题。\n",
    "\n",
    "\n"
   ]
  },
  {
   "cell_type": "markdown",
   "id": "7905b64b",
   "metadata": {},
   "source": [
    "02：本书的目标是，尽量不使用内容不明的黑盒，而是从自己能理解的最基础的知识出发，一步一步地实现最先进的深度学习技术。并通过这一实现过程，使读者加深对深度学习的理解。"
   ]
  },
  {
   "cell_type": "markdown",
   "id": "0da8d356",
   "metadata": {},
   "source": [
    "03：在光看数学式和理论说明无法理解的情况下，可以尝试阅读源代码并运行，很多时候思路都会变得清晰起来。  \n",
    "人脑很难对公式有一个清晰的画面感。"
   ]
  },
  {
   "cell_type": "markdown",
   "id": "ecb1ab48",
   "metadata": {},
   "source": [
    "04：荀子《儒效篇》:不闻不若闻之,闻之不若见之,见之不若知之,知之不若行之。学至于行之而止矣。行之,明也;明之为圣人。\n",
    "圣人也者,本仁义,当是非,齐言行,不失豪厘,无他道焉,已乎行之矣。\n",
    "故闻之而不见,虽博必谬;见之而不知,虽识必妄;知之而不行,虽敦必困。不闻不见,则虽当,非仁也。\n",
    "其道百举而百陷也。"
   ]
  },
  {
   "cell_type": "markdown",
   "id": "6b3f949b",
   "metadata": {},
   "source": [
    "05：在制作东西的过程中，会进行各种各样的实验，有时也会卡住，抱着脑袋想为什么会这样。这种费时的工作对深刻理解技术而言是宝贵的财富。\n",
    "自己在制造东西过程中，是快乐的，但是难度不要太高。"
   ]
  }
 ],
 "metadata": {
  "language_info": {
   "name": "python"
  }
 },
 "nbformat": 4,
 "nbformat_minor": 5
}
