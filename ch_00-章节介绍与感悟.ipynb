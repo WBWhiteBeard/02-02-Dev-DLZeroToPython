{
 "cells": [
  {
   "cell_type": "markdown",
   "id": "0cc5347d",
   "metadata": {},
   "source": [
    "网址来源：[深度学习入门:基于Python的理论与实现](https://weread.qq.com/web/reader/b6032660813ab90ebg010b40)"
   ]
  },
  {
   "cell_type": "markdown",
   "id": "6dc8e218",
   "metadata": {},
   "source": [
    "正如美国物理学家理查德·费曼(Richard Phillips Feynman)所说：​“What I cannot create, I do not understand.”只有创造一个东西，才算真正弄懂了一个问题。\n",
    "\n",
    "\n"
   ]
  },
  {
   "cell_type": "markdown",
   "id": "7905b64b",
   "metadata": {},
   "source": []
  }
 ],
 "metadata": {
  "language_info": {
   "name": "python"
  }
 },
 "nbformat": 4,
 "nbformat_minor": 5
}
