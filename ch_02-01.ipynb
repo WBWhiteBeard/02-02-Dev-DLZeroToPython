{
 "cells": [
  {
   "cell_type": "markdown",
   "id": "60f2ed62",
   "metadata": {},
   "source": [
    "1. 用来测试一下。\n",
    "vscode of nootbook：[vscode-jupyter](https://vscode.github.net.cn/docs/datascience/jupyter-notebooks)  \n",
    "2. 简单过一下python吧。"
   ]
  },
  {
   "cell_type": "code",
   "execution_count": 3,
   "id": "9223e890",
   "metadata": {},
   "outputs": [
    {
     "name": "stdout",
     "output_type": "stream",
     "text": [
      "hello\n"
     ]
    }
   ],
   "source": [
    "msg = \"hello\"\n",
    "print(msg)"
   ]
  },
  {
   "cell_type": "code",
   "execution_count": 2,
   "id": "00a0bf1d",
   "metadata": {},
   "outputs": [],
   "source": [
    "import numpy as np"
   ]
  },
  {
   "cell_type": "code",
   "execution_count": null,
   "id": "baa082c7",
   "metadata": {},
   "outputs": [
    {
     "name": "stdout",
     "output_type": "stream",
     "text": [
      "[[51 55]\n",
      " [14 19]\n",
      " [ 0  4]]\n"
     ]
    },
    {
     "data": {
      "text/plain": [
       "np.int64(55)"
      ]
     },
     "execution_count": 3,
     "metadata": {},
     "output_type": "execute_result"
    }
   ],
   "source": [
    "X = np.array([[51, 55], [14, 19], [0, 4]])\n",
    "print(X)\n",
    "\n",
    "X[0][1] # (0,1)的元素"
   ]
  },
  {
   "cell_type": "code",
   "execution_count": 4,
   "id": "b8c02759",
   "metadata": {},
   "outputs": [
    {
     "data": {
      "text/plain": [
       "array([51, 55])"
      ]
     },
     "execution_count": 4,
     "metadata": {},
     "output_type": "execute_result"
    }
   ],
   "source": [
    "X[0]    # 第0行"
   ]
  },
  {
   "cell_type": "markdown",
   "id": "299979cf",
   "metadata": {},
   "source": [
    "Python等动态类型语言一般比C和C++等静态类型语言（编译型语言）运算速度慢。实际上，如果是运算量大的处理对象，用C/C++写程序更好。为此，当Python中追求性能时，人们会用C/C++来实现处理的内容。Python则承担“中间人”的角色，负责调用那些用C/ C++写的程序。NumPy中，主要的处理也都是通过C或C++实现的。因此，我们可以在不损失性能的情况下，使用Python便利的语法。"
   ]
  }
 ],
 "metadata": {
  "kernelspec": {
   "display_name": "env_dl_v1",
   "language": "python",
   "name": "python3"
  },
  "language_info": {
   "codemirror_mode": {
    "name": "ipython",
    "version": 3
   },
   "file_extension": ".py",
   "mimetype": "text/x-python",
   "name": "python",
   "nbconvert_exporter": "python",
   "pygments_lexer": "ipython3",
   "version": "3.10.18"
  }
 },
 "nbformat": 4,
 "nbformat_minor": 5
}
