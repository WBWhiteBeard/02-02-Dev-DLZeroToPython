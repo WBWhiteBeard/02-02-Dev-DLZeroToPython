{
 "cells": [
  {
   "cell_type": "markdown",
   "id": "60f2ed62",
   "metadata": {},
   "source": [
    "用来测试一下。\n",
    "vscode of nootbook：[vscode-jupyter](https://vscode.github.net.cn/docs/datascience/jupyter-notebooks)"
   ]
  },
  {
   "cell_type": "code",
   "execution_count": 3,
   "id": "9223e890",
   "metadata": {},
   "outputs": [
    {
     "name": "stdout",
     "output_type": "stream",
     "text": [
      "hello\n"
     ]
    }
   ],
   "source": [
    "msg = \"hello\"\n",
    "print(msg)"
   ]
  }
 ],
 "metadata": {
  "kernelspec": {
   "display_name": "env_dl_v1",
   "language": "python",
   "name": "python3"
  },
  "language_info": {
   "codemirror_mode": {
    "name": "ipython",
    "version": 3
   },
   "file_extension": ".py",
   "mimetype": "text/x-python",
   "name": "python",
   "nbconvert_exporter": "python",
   "pygments_lexer": "ipython3",
   "version": "3.10.18"
  }
 },
 "nbformat": 4,
 "nbformat_minor": 5
}
